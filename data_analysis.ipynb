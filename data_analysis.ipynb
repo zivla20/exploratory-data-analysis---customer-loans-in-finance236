{
 "cells": [
  {
   "cell_type": "code",
   "execution_count": null,
   "metadata": {},
   "outputs": [],
   "source": [
    "\"\"\"Import necessary libraries and the 'DataTransform' class:\"\"\"\n",
    "import pandas as pd\n",
    "from data_transform import DataTransform\n",
    "from dataframe_info import DataFrameInfo\n",
    "from missing_values import Plotter, DataFrameTransform\n",
    "import numpy as np\n",
    "import matplotlib.pyplot as plt\n",
    "import seaborn as sns"
   ]
  },
  {
   "cell_type": "code",
   "execution_count": null,
   "metadata": {},
   "outputs": [],
   "source": [
    "\"\"\"Load the dataset\"\"\"\n",
    "loan_data = pd.read_csv('loan_payments.csv')"
   ]
  },
  {
   "cell_type": "code",
   "execution_count": null,
   "metadata": {},
   "outputs": [],
   "source": [
    "\"\"\"Initialise the 'DataTransform class\"\"\"\n",
    "transformer = DataTransform(loan_data)"
   ]
  },
  {
   "cell_type": "code",
   "execution_count": null,
   "metadata": {},
   "outputs": [],
   "source": [
    "\"\"\"Transform the required columns to have a category datatype.\"\"\"\n",
    "transformer.convert_to_category(['grade', 'sub_grade', 'home_ownership', 'verification_status', 'loan_status', 'purpose', 'term', 'employment_length', ])"
   ]
  },
  {
   "cell_type": "code",
   "execution_count": null,
   "metadata": {},
   "outputs": [],
   "source": [
    "\"\"\"Transform the required columns to have a datetime datatype.\"\"\"\n",
    "transformer.convert_to_datetime(['issue_date', 'earliest_credit_line', 'last_payment_date', 'next_payment_date', 'last_credit_pull_date'])"
   ]
  },
  {
   "cell_type": "code",
   "execution_count": null,
   "metadata": {},
   "outputs": [],
   "source": [
    "print(loan_data.dtypes)"
   ]
  },
  {
   "cell_type": "code",
   "execution_count": null,
   "metadata": {},
   "outputs": [],
   "source": [
    "print(loan_data['issue_date'].unique())"
   ]
  },
  {
   "cell_type": "code",
   "execution_count": null,
   "metadata": {},
   "outputs": [],
   "source": [
    "df_info = DataFrameInfo(loan_data)"
   ]
  },
  {
   "cell_type": "code",
   "execution_count": null,
   "metadata": {},
   "outputs": [],
   "source": [
    "df_info.describe_columns()\n",
    "print(df_info.statistical_summary())\n",
    "print(\"Median:\\n\", df_info.get_median())\n",
    "print(\"Standard Deviation:\\n\", df_info.get_standard_deviation())\n",
    "print(\"Mean:\\n\", df_info.get_mean())\n",
    "print(\"Distinct Values Count:\\n\", df_info.count_distinct_values())\n",
    "print(\"DataFrame Shape:\\n\", df_info.get_shape())\n",
    "print(\"Null Values Count:\\n\", df_info.count_null_values())\n",
    "print(\"Null Values Percentage:\\n\", df_info.count_null_values_percentage())"
   ]
  },
  {
   "cell_type": "code",
   "execution_count": null,
   "metadata": {},
   "outputs": [],
   "source": [
    "plotter = Plotter(loan_data)\n",
    "transformer = DataFrameTransform(loan_data)"
   ]
  },
  {
   "cell_type": "code",
   "execution_count": null,
   "metadata": {},
   "outputs": [],
   "source": [
    "null_counts = transformer.check_nulls()\n",
    "print(null_counts)"
   ]
  },
  {
   "cell_type": "code",
   "execution_count": null,
   "metadata": {},
   "outputs": [],
   "source": [
    "transformer.drop_columns()\n",
    "null_counts_after_dropping = transformer.check_nulls()\n",
    "print(null_counts_after_dropping)"
   ]
  },
  {
   "cell_type": "code",
   "execution_count": null,
   "metadata": {},
   "outputs": [],
   "source": [
    "transformer.impute_nulls()\n",
    "null_counts_after_imputation = transformer.check_nulls()\n",
    "print(null_counts_after_imputation)"
   ]
  },
  {
   "cell_type": "code",
   "execution_count": null,
   "metadata": {},
   "outputs": [],
   "source": [
    "skewed_columns = transformer.calculate_skewness(threshold = 1)\n"
   ]
  },
  {
   "cell_type": "code",
   "execution_count": null,
   "metadata": {},
   "outputs": [],
   "source": [
    "best_transformations = transformer.transform_skewed_columns(skewed_columns)\n",
    "print(\"Best transformations for each column:\")\n",
    "print(best_transformations)"
   ]
  },
  {
   "cell_type": "code",
   "execution_count": null,
   "metadata": {},
   "outputs": [],
   "source": [
    "for column, method in best_transformations.items():\n",
    "    transformer.df[column] = transformer._transform_column(transformer.df[column], method)\n"
   ]
  },
  {
   "cell_type": "markdown",
   "metadata": {},
   "source": [
    "# Visualize skewness after transformation\n",
    "for column in best_transformations:\n",
    "    plotter.plot_skewness(column)"
   ]
  },
  {
   "cell_type": "code",
   "execution_count": null,
   "metadata": {},
   "outputs": [],
   "source": [
    "# Save transformed DataFrame\n",
    "transformed_df = transformer.df\n",
    "transformed_df.to_csv('transformed_data.csv', index=False)"
   ]
  },
  {
   "cell_type": "code",
   "execution_count": null,
   "metadata": {},
   "outputs": [],
   "source": [
    "plotter = Plotter(loan_data)\n",
    "transformer = DataFrameTransform(loan_data)"
   ]
  },
  {
   "cell_type": "code",
   "execution_count": null,
   "metadata": {},
   "outputs": [],
   "source": [
    "# Decide whether to remove or transform outliers based on skewness and summary statistics\n",
    "df_cleaned = transformer.decide_outlier_handling(skewed_columns)\n",
    "\n",
    "# Re-initialize classes with cleaned DataFrame\n",
    "plotter_cleaned = Plotter(df_cleaned)"
   ]
  },
  {
   "cell_type": "code",
   "execution_count": null,
   "metadata": {},
   "outputs": [],
   "source": [
    "# Visualize outliers after removal or transformation\n",
    "# plotter_cleaned.plot_outliers(skewed_columns)\n"
   ]
  },
  {
   "cell_type": "code",
   "execution_count": null,
   "metadata": {},
   "outputs": [],
   "source": [
    "df_cleaned.to_csv('cleaned_dataset.csv', index=False)\n"
   ]
  },
  {
   "cell_type": "code",
   "execution_count": null,
   "metadata": {},
   "outputs": [],
   "source": [
    "plotter.plot_correlation_matrix()"
   ]
  },
  {
   "cell_type": "code",
   "execution_count": null,
   "metadata": {},
   "outputs": [],
   "source": [
    "# Step 2: Identify and remove highly correlated columns\n",
    "highly_correlated_columns = transformer.remove_highly_correlated_columns(threshold=0.9)\n",
    "\n",
    "# Step 3: Visualize the correlation matrix after removing highly correlated columns\n",
    "plotter.plot_correlation_matrix()\n",
    "\n",
    "# Step 3: Create a new Plotter instance with the updated DataFrame\n",
    "plotter = Plotter(transformer.df)\n",
    "\n",
    "# Step 4: Visualize the correlation matrix after removing highly correlated columns\n",
    "plotter.plot_correlation_matrix()"
   ]
  },
  {
   "cell_type": "code",
   "execution_count": null,
   "metadata": {},
   "outputs": [],
   "source": [
    "transformer = DataFrameTransform('cleaned_dataset.csv')\n",
    "plotter = Plotter('cleaned_dataset.csv')"
   ]
  },
  {
   "cell_type": "code",
   "execution_count": null,
   "metadata": {},
   "outputs": [],
   "source": [
    "# recovery_rate, total_funded_amount, total_recovery_amount = transformer.calculate_recovery_rate()\n",
    "# print(f\"Percentage of loans recovered against investor funding: {recovery_rate:.2f}%\")\n",
    "# plotter.plot_recovery_rate(total_recovery_amount, total_funded_amount)"
   ]
  },
  {
   "cell_type": "code",
   "execution_count": null,
   "metadata": {},
   "outputs": [],
   "source": [
    "try:\n",
    "    recovery_rate, total_funded_amount, total_recovery_amount = transformer.calculate_recovery_rate()\n",
    "    print(f\"Percentage of loans recovered against investor funding: {recovery_rate:.2f}%\")\n",
    "    plotter.plot_recovery_rate(total_recovery_amount, total_funded_amount)\n",
    "except (KeyError, TypeError) as e:\n",
    "    print(e)\n",
    "\n",
    "# Calculate and visualize projected recovery up to 6 months\n",
    "try:\n",
    "    projected_recovery_percentage_6_months, total_recoverable_amount, projected_recovery_6_months = transformer.calculate_projected_recovery_6_months()\n",
    "    print(f\"Projected percentage of total amount recovered up to 6 months in the future: {projected_recovery_percentage_6_months:.2f}%\")\n",
    "    plotter.plot_projected_recovery_6_months(projected_recovery_6_months, total_recoverable_amount)\n",
    "except (KeyError, TypeError) as e:\n",
    "    print(e)"
   ]
  },
  {
   "cell_type": "code",
   "execution_count": null,
   "metadata": {},
   "outputs": [],
   "source": [
    "df = pd.read_csv('cleaned_dataset.csv')\n",
    "\n",
    "# Verify the column names in the DataFrame\n",
    "print(df.columns)\n",
    "\n",
    "# Verify the DataFrame structure and data types\n",
    "print(df.info())\n",
    "print(df.head())\n",
    "\n",
    "# Initialize the transformer and plotter\n",
    "transformer = DataFrameTransform(df)\n",
    "plotter = Plotter(df)\n"
   ]
  },
  {
   "cell_type": "code",
   "execution_count": null,
   "metadata": {},
   "outputs": [],
   "source": [
    "print(df['term'].dtype)"
   ]
  },
  {
   "cell_type": "code",
   "execution_count": null,
   "metadata": {},
   "outputs": [],
   "source": [
    "# Assuming df is your loaded DataFrame\n",
    "transformer = DataFrameTransform(df)\n",
    "\n",
    "# Calculate current recovery rates\n",
    "recovery_rate, total_funded_amount, total_recovery_amount = transformer.calculate_recovery_rate()\n",
    "\n",
    "print(total_recovery_amount)\n",
    "\n",
    "# Calculate percentage of loans recovered against investor funding\n",
    "percentage_recovered = (total_recovery_amount / total_funded_amount) * 100\n",
    "\n",
    "print(f\"Percentage of loans recovered against investor funding: {percentage_recovered:.2f}%\")\n",
    "\n",
    "# Calculate projected recovery rates up to 6 months into the future\n",
    "projected_recovery_percentage_6_months, total_recoverable_amount, projected_recovery_6_months = transformer.calculate_projected_recovery_6_months()\n",
    "\n",
    "# Visualize using Plotter class\n",
    "plotter = Plotter(df)\n",
    "\n",
    "# Visualize current recovery rates\n",
    "plotter.plot_recovery_breakdown(total_recovery_amount, total_funded_amount)\n",
    "\n",
    "# Prepare data for future recovery rate visualization (assuming you have monthly data)\n",
    "monthly_data = pd.DataFrame({\n",
    "    'date': ['2024-07-01', '2024-08-01', '2024-09-01', '2024-10-01', '2024-11-01', '2024-12-01'],\n",
    "    'recovery_rate': [recovery_rate, recovery_rate, recovery_rate, recovery_rate, recovery_rate, projected_recovery_percentage_6_months]\n",
    "})\n",
    "\n",
    "# Visualize recovery rate over time\n",
    "plotter.plot_recovery_rate_over_time(monthly_data)\n",
    "\n",
    "# Visualize predicted recovery percentage up to 6 months into the future\n",
    "plotter.plot_predicted_recovery([recovery_rate] * 5 + [projected_recovery_percentage_6_months])\n"
   ]
  },
  {
   "cell_type": "code",
   "execution_count": null,
   "metadata": {},
   "outputs": [],
   "source": [
    "# Calculate recovery rates\n",
    "recovery_rate, total_funded_amount, total_recovery_amount = transformer.calculate_recovery_rate()\n",
    "\n",
    "# Plotting the recovery rate as a pie chart\n",
    "plotter.plot_recovery_rate(total_recovery_amount, total_funded_amount)\n"
   ]
  },
  {
   "cell_type": "code",
   "execution_count": null,
   "metadata": {},
   "outputs": [],
   "source": [
    "print(f\"total_recovery_amount: {total_recovery_amount}, type: {type(total_recovery_amount)}\")\n",
    "print(f\"total_funded_amount: {total_funded_amount}, type: {type(total_funded_amount)}\")\n"
   ]
  },
  {
   "cell_type": "code",
   "execution_count": null,
   "metadata": {},
   "outputs": [],
   "source": [
    "# Plotting the recovery rate as a pie chart\n",
    "sizes = [total_recovery_amount, total_funded_amount - total_recovery_amount]\n",
    "labels = ['Recovered Amount', 'Remaining Funded Amount']\n",
    "colors = ['#ff9999','#66b3ff']\n",
    "\n",
    "fig1, ax1 = plt.subplots()\n",
    "ax1.pie(sizes, labels=labels, colors=colors, autopct='%1.1f%%', startangle=90)\n",
    "ax1.axis('equal')  # Equal aspect ratio ensures that pie is drawn as a circle.\n",
    "\n",
    "plt.title('Recovery Rate: Percentage of loans recovered against investor funding')\n",
    "plt.show()\n"
   ]
  }
 ],
 "metadata": {
  "kernelspec": {
   "display_name": "Python 3",
   "language": "python",
   "name": "python3"
  },
  "language_info": {
   "codemirror_mode": {
    "name": "ipython",
    "version": 3
   },
   "file_extension": ".py",
   "mimetype": "text/x-python",
   "name": "python",
   "nbconvert_exporter": "python",
   "pygments_lexer": "ipython3",
   "version": "3.12.3"
  }
 },
 "nbformat": 4,
 "nbformat_minor": 2
}
